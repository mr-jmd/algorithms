{
 "cells": [
  {
   "cell_type": "code",
   "execution_count": 1,
   "metadata": {},
   "outputs": [],
   "source": [
    "import numpy as np\n",
    "import matplotlib.pyplot as plt\n",
    "from tabulate import tabulate"
   ]
  },
  {
   "cell_type": "code",
   "execution_count": 2,
   "metadata": {},
   "outputs": [
    {
     "name": "stdout",
     "output_type": "stream",
     "text": [
      "+-----+-----+\n",
      "|   x |   y |\n",
      "+=====+=====+\n",
      "|   2 |  10 |\n",
      "+-----+-----+\n",
      "|   2 |   5 |\n",
      "+-----+-----+\n",
      "|   8 |   4 |\n",
      "+-----+-----+\n",
      "|   5 |   8 |\n",
      "+-----+-----+\n",
      "|   7 |   5 |\n",
      "+-----+-----+\n",
      "|   6 |   4 |\n",
      "+-----+-----+\n",
      "|   1 |   2 |\n",
      "+-----+-----+\n",
      "|   4 |   9 |\n",
      "+-----+-----+\n"
     ]
    }
   ],
   "source": [
    "#Point = [1, 2, 3, 4, 5, 6, 7, 8]\n",
    "X = np.array([2, 2, 8, 5, 7, 6, 1, 4])\n",
    "Y = np.array([10, 5, 4, 8, 5, 4, 2, 9])\n",
    "\n",
    "tabla = np.column_stack((X, Y))\n",
    "\n",
    "# Imprimir la tabla\n",
    "headers = [\"x\", \"y\"]\n",
    "print(tabulate(tabla, headers=headers, tablefmt=\"grid\"))"
   ]
  },
  {
   "cell_type": "code",
   "execution_count": 3,
   "metadata": {},
   "outputs": [],
   "source": [
    "def manhattan_distance(x1, y1, x2, y2):\n",
    "    return np.abs(x2 - x1) + np.abs(y2 - y1)"
   ]
  },
  {
   "cell_type": "code",
   "execution_count": 4,
   "metadata": {},
   "outputs": [],
   "source": [
    "centroids = np.array([[2, 10], [5, 8], [1, 2]], dtype=float)\n",
    "centroids_aux = np.zeros_like(centroids)\n",
    "\n",
    "Mean = np.zeros((len(tabla), len(centroids)))\n",
    "cluster = np.zeros((len(tabla), 1))\n",
    "\n",
    "while True:\n",
    "    for i in range(len(tabla)):\n",
    "        \n",
    "        for j in range(len(centroids)):\n",
    "            distance = manhattan_distance(tabla[i][0], tabla[i][1], centroids[j][0], centroids[j][1])\n",
    "            Mean[i][j] = distance\n",
    "        \n",
    "        cluster[i] = np.argmin(Mean[i])\n",
    "\n",
    "    for i in range(len(centroids)):\n",
    "        indices = np.flatnonzero(cluster == i)\n",
    "        centroids[i, 0] = np.mean(X[indices])\n",
    "        centroids[i, 1] = np.mean(Y[indices])\n",
    "    \n",
    "    if np.array_equal(centroids_aux, centroids):\n",
    "        break\n",
    "    else:\n",
    "        centroids_aux = np.copy(centroids)"
   ]
  },
  {
   "cell_type": "code",
   "execution_count": 5,
   "metadata": {},
   "outputs": [
    {
     "name": "stdout",
     "output_type": "stream",
     "text": [
      "+-----+-----+-----------------------------+----------------------------+--------------+-----------+\n",
      "|   x |   y |   (3.6666666666666665, 9.0) |   (7.0, 4.333333333333333) |   (1.5, 3.5) |   cluster |\n",
      "+=====+=====+=============================+============================+==============+===========+\n",
      "|   2 |  10 |                    2.66667  |                  10.6667   |            7 |         1 |\n",
      "+-----+-----+-----------------------------+----------------------------+--------------+-----------+\n",
      "|   2 |   5 |                    5.66667  |                   5.66667  |            2 |         3 |\n",
      "+-----+-----+-----------------------------+----------------------------+--------------+-----------+\n",
      "|   8 |   4 |                    9.33333  |                   1.33333  |            7 |         2 |\n",
      "+-----+-----+-----------------------------+----------------------------+--------------+-----------+\n",
      "|   5 |   8 |                    2.33333  |                   5.66667  |            8 |         1 |\n",
      "+-----+-----+-----------------------------+----------------------------+--------------+-----------+\n",
      "|   7 |   5 |                    7.33333  |                   0.666667 |            7 |         2 |\n",
      "+-----+-----+-----------------------------+----------------------------+--------------+-----------+\n",
      "|   6 |   4 |                    7.33333  |                   1.33333  |            5 |         2 |\n",
      "+-----+-----+-----------------------------+----------------------------+--------------+-----------+\n",
      "|   1 |   2 |                    9.66667  |                   8.33333  |            2 |         3 |\n",
      "+-----+-----+-----------------------------+----------------------------+--------------+-----------+\n",
      "|   4 |   9 |                    0.333333 |                   7.66667  |            8 |         1 |\n",
      "+-----+-----+-----------------------------+----------------------------+--------------+-----------+\n"
     ]
    }
   ],
   "source": [
    "result = np.column_stack((tabla, Mean, cluster + 1))\n",
    "centroid_strings = [f\"({cent[0]}, {cent[1]})\" for cent in centroids]\n",
    "headers += centroid_strings\n",
    "headers += [\"cluster\"]\n",
    "\n",
    "print(tabulate(result, headers=headers, tablefmt=\"grid\"))"
   ]
  }
 ],
 "metadata": {
  "kernelspec": {
   "display_name": "Python 3",
   "language": "python",
   "name": "python3"
  },
  "language_info": {
   "codemirror_mode": {
    "name": "ipython",
    "version": 3
   },
   "file_extension": ".py",
   "mimetype": "text/x-python",
   "name": "python",
   "nbconvert_exporter": "python",
   "pygments_lexer": "ipython3",
   "version": "3.10.12"
  }
 },
 "nbformat": 4,
 "nbformat_minor": 2
}
