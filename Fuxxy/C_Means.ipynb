{
 "cells": [
  {
   "cell_type": "code",
   "execution_count": 1,
   "metadata": {},
   "outputs": [],
   "source": [
    "import numpy as np\n",
    "import matplotlib.pyplot as plt\n",
    "from tabulate import tabulate\n"
   ]
  },
  {
   "cell_type": "code",
   "execution_count": 2,
   "metadata": {},
   "outputs": [
    {
     "name": "stdout",
     "output_type": "stream",
     "text": [
      "+-----------+-----------+---------------+\n",
      "|   Jugador |   Rapidez |   Resistencia |\n",
      "+===========+===========+===============+\n",
      "|         1 |      0.58 |          0.33 |\n",
      "+-----------+-----------+---------------+\n",
      "|         2 |      0.9  |          0.11 |\n",
      "+-----------+-----------+---------------+\n",
      "|         3 |      0.68 |          0.17 |\n",
      "+-----------+-----------+---------------+\n",
      "|         4 |      0.11 |          0.44 |\n",
      "+-----------+-----------+---------------+\n",
      "|         5 |      0.47 |          0.81 |\n",
      "+-----------+-----------+---------------+\n",
      "|         6 |      0.24 |          0.83 |\n",
      "+-----------+-----------+---------------+\n",
      "|         7 |      0.09 |          0.18 |\n",
      "+-----------+-----------+---------------+\n",
      "|         8 |      0.82 |          0.11 |\n",
      "+-----------+-----------+---------------+\n",
      "|         9 |      0.65 |          0.5  |\n",
      "+-----------+-----------+---------------+\n",
      "|        10 |      0.09 |          0.63 |\n",
      "+-----------+-----------+---------------+\n",
      "|        11 |      0.98 |          0.24 |\n",
      "+-----------+-----------+---------------+\n"
     ]
    }
   ],
   "source": [
    "jugadores = np.array([1, 2, 3, 4, 5, 6, 7, 8, 9, 10, 11])\n",
    "rapidez = [0.58, 0.90, 0.68, 0.11, 0.47, 0.24, 0.09, 0.82, 0.65, 0.09, 0.98]\n",
    "resistencia = [0.33, 0.11, 0.17, 0.44, 0.81, 0.83, 0.18, 0.11, 0.50, 0.63, 0.24]\n",
    "\n",
    "tabla = np.column_stack((jugadores, rapidez, resistencia))\n",
    "\n",
    "# Imprimir la tabla\n",
    "headers = [\"Jugador\", \"Rapidez\", \"Resistencia\"]\n",
    "print(tabulate(tabla, headers=headers, tablefmt=\"grid\"))"
   ]
  },
  {
   "cell_type": "code",
   "execution_count": 5,
   "metadata": {},
   "outputs": [
    {
     "name": "stdout",
     "output_type": "stream",
     "text": [
      "+-----------+------------+------------+\n",
      "|   Jugador |   cluster1 |   cluster2 |\n",
      "+===========+============+============+\n",
      "|         1 |  0.191567  |  0.808433  |\n",
      "+-----------+------------+------------+\n",
      "|         2 |  0.0376096 |  0.96239   |\n",
      "+-----------+------------+------------+\n",
      "|         3 |  0.0266079 |  0.973392  |\n",
      "+-----------+------------+------------+\n",
      "|         4 |  0.936633  |  0.0633667 |\n",
      "+-----------+------------+------------+\n",
      "|         5 |  0.791707  |  0.208293  |\n",
      "+-----------+------------+------------+\n",
      "|         6 |  0.92057   |  0.0794297 |\n",
      "+-----------+------------+------------+\n",
      "|         7 |  0.716645  |  0.283355  |\n",
      "+-----------+------------+------------+\n",
      "|         8 |  0.0224883 |  0.977512  |\n",
      "+-----------+------------+------------+\n",
      "|         9 |  0.314038  |  0.685962  |\n",
      "+-----------+------------+------------+\n",
      "|        10 |  0.977221  |  0.0227793 |\n",
      "+-----------+------------+------------+\n",
      "|        11 |  0.0563888 |  0.943611  |\n",
      "+-----------+------------+------------+\n"
     ]
    },
    {
     "data": {
      "image/png": "[encoded data removed]",
      "text/plain": [
       "<Figure size 640x480 with 1 Axes>"
      ]
     },
     "metadata": {},
     "output_type": "display_data"
    },
    {
     "name": "stdout",
     "output_type": "stream",
     "text": [
      "0.5191819381800139\n"
     ]
    }
   ],
   "source": [
    "iter = 50\n",
    "membresia = np.zeros_like(tabla)\n",
    "v1 = (0.2, 0.5)\n",
    "v2 = (0.8, 0.5)\n",
    "A = 0\n",
    "J = []\n",
    "\n",
    "for t in range(iter):\n",
    "    A = 0\n",
    "    for i in range(len(tabla)):\n",
    "        x = tabla[i, 1:3]  # Extraer las coordenadas del primer punto de la tabla\n",
    "        \n",
    "        distancia1 = (x[0] - v1[0])**2 + (x[1] - v1[1])**2\n",
    "        distancia2 = (x[0] - v2[0])**2 + (x[1] - v2[1])**2\n",
    "\n",
    "        Mc1 = 1 / ((distancia1 / distancia1) + (distancia1 / distancia2))\n",
    "        Mc2 = 1 / ((distancia2 / distancia1) + (distancia2 / distancia2))\n",
    "\n",
    "        #membresia.append((i + 1, Mc1, Mc2))\n",
    "        membresia[i] = (i + 1, Mc1, Mc2)\n",
    "\n",
    "        A += ((Mc1**2 * distancia1) + (Mc2**2 * distancia2))\n",
    "\n",
    "    J.append(A)    \n",
    "\n",
    "    N1 = 0\n",
    "    M1 = np.sum(np.array(membresia)[:, 1]**2)\n",
    "\n",
    "    N2 = 0\n",
    "    M2 = np.sum(np.array(membresia)[:, 2]**2)\n",
    "\n",
    "    for i in range(len(tabla)):\n",
    "        N1 += np.dot(membresia[i][1]**2, tabla[i, 1:3])\n",
    "        N2 += np.dot(membresia[i][2]**2, tabla[i, 1:3])\n",
    "\n",
    "    v1 = (N1[0] / M1, N1[1] / M1)\n",
    "    v2 = (N2[0] / M2, N2[1] / M2)\n",
    "\n",
    "headers = [\"Jugador\", \"cluster1\", \"cluster2\"]\n",
    "print(tabulate(membresia, headers=headers, tablefmt=\"grid\"))\n",
    "\n",
    "x = np.arange(1, iter + 1)\n",
    "\n",
    "# Graficar J en función del número de iteraciones\n",
    "plt.plot(x, J, marker='o', linestyle='-')\n",
    "plt.title('Funcion Cost')\n",
    "plt.xlabel('Iteración')\n",
    "plt.ylabel('Valor de J')\n",
    "plt.ylim(0, 1)  # Limitar el eje y en el rango de 0 a 1\n",
    "plt.grid(True)\n",
    "plt.show()\n",
    "\n",
    "print(J[len(J) - 1])"
   ]
  }
 ],
 "metadata": {
  "kernelspec": {
   "display_name": "Python 3",
   "language": "python",
   "name": "python3"
  },
  "language_info": {
   "codemirror_mode": {
    "name": "ipython",
    "version": 3
   },
   "file_extension": ".py",
   "mimetype": "text/x-python",
   "name": "python",
   "nbconvert_exporter": "python",
   "pygments_lexer": "ipython3",
   "version": "3.10.12"
  }
 },
 "nbformat": 4,
 "nbformat_minor": 2
}
